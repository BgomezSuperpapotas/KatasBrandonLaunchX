{
 "cells": [
  {
   "cell_type": "markdown",
   "metadata": {},
   "source": [
    "# Cadenas de texto"
   ]
  },
  {
   "cell_type": "markdown",
   "metadata": {},
   "source": [
    "## Ejercicio 1: Transformar cadenas"
   ]
  },
  {
   "cell_type": "markdown",
   "metadata": {},
   "source": [
    "### El texto que usaremos es:"
   ]
  },
  {
   "cell_type": "code",
   "execution_count": 70,
   "metadata": {},
   "outputs": [],
   "source": [
    "text = \"\"\"Interesting facts about the Moon. The Moon is Earth's only satellite. There are several interesting facts about the Moon and how it affects life here on Earth. \n",
    "On average, the Moon moves 4cm away from the Earth every year. This yearly drift is not significant enough to cause immediate effects on Earth. The highest daylight temperature of the Moon is 127 C.\"\"\""
   ]
  },
  {
   "cell_type": "code",
   "execution_count": 71,
   "metadata": {},
   "outputs": [
    {
     "name": "stdout",
     "output_type": "stream",
     "text": [
      "Interesting facts about the Moon. The Moon is Earth's only satellite. There are several interesting facts about the Moon and how it affects life here on Earth. \n",
      "On average, the Moon moves 4cm away from the Earth every year. This yearly drift is not significant enough to cause immediate effects on Earth. The highest daylight temperature of the Moon is 127 C.\n"
     ]
    }
   ],
   "source": [
    "print(text);"
   ]
  },
  {
   "cell_type": "code",
   "execution_count": 72,
   "metadata": {},
   "outputs": [
    {
     "data": {
      "text/plain": [
       "['Interesting facts about the Moon',\n",
       " \"The Moon is Earth's only satellite\",\n",
       " 'There are several interesting facts about the Moon and how it affects life here on Earth',\n",
       " '\\nOn average, the Moon moves 4cm away from the Earth every year',\n",
       " 'This yearly drift is not significant enough to cause immediate effects on Earth',\n",
       " 'The highest daylight temperature of the Moon is 127 C.']"
      ]
     },
     "execution_count": 72,
     "metadata": {},
     "output_type": "execute_result"
    }
   ],
   "source": [
    "# Divide el texto\n",
    "dividido = text.split('. ')\n",
    "dividido"
   ]
  },
  {
   "cell_type": "code",
   "execution_count": 73,
   "metadata": {},
   "outputs": [
    {
     "data": {
      "text/plain": [
       "['average', 'temperature', 'distance']"
      ]
     },
     "execution_count": 73,
     "metadata": {},
     "output_type": "execute_result"
    }
   ],
   "source": [
    "# Define las palabras pista: average, temperature y distance suenan bien\n",
    "keywords=[\"average\", \"temperature\", \"distance\"];\n",
    "keywords"
   ]
  },
  {
   "cell_type": "code",
   "execution_count": 74,
   "metadata": {},
   "outputs": [
    {
     "name": "stdout",
     "output_type": "stream",
     "text": [
      "\n",
      "On average, the Moon moves 4cm away from the Earth every year\n",
      "The highest daylight temperature of the Moon is 127 C.\n"
     ]
    }
   ],
   "source": [
    "# Ciclo for para recorrer la cadena\n",
    "#for sentencia in dividido:\n",
    " #   if keywords[0] in sentencia or keywords[1] in sentencia or keywords[2] in sentencia:\n",
    "  #      print(sentencia);\n",
    "#No se cual metodo sea mas eficiente, pero el de abajo es mas facil de actualizar sin tanto rollo. Aunque solo itera la cantidad requerida de keywords, asi que seria lo mismo realmente\n",
    "for sentencia in dividido:\n",
    "    for palabra in keywords:\n",
    "        if palabra in sentencia:\n",
    "            print(sentencia);"
   ]
  },
  {
   "cell_type": "code",
   "execution_count": 75,
   "metadata": {},
   "outputs": [
    {
     "name": "stdout",
     "output_type": "stream",
     "text": [
      "The highest daylight temperature of the Moon is 127 Celsius.\n"
     ]
    }
   ],
   "source": [
    "# Ciclo para cambiar C a Celsius\n",
    "#Mismo ciclo anterior pero con modificaciones.\n",
    "#Pero en vez de buscar entre todas, solo buscara aquella con la palabra temperature\n",
    "for sentencia in dividido:\n",
    "        if keywords[1] in sentencia:\n",
    "            print(sentencia.replace('C', \"Celsius\"));"
   ]
  },
  {
   "cell_type": "markdown",
   "metadata": {},
   "source": [
    "# Ejercicio 2: Formateando Cadenas"
   ]
  },
  {
   "cell_type": "markdown",
   "metadata": {},
   "source": [
    "## Resultado esperado\n",
    "\n",
    "    Gravity Facts about Ganymede\n",
    "    -------------------------------------------------------------------------------\n",
    "    Planet Name: Mars\n",
    "    Gravity on Ganymede: 1.4300000000000002 m/s2"
   ]
  },
  {
   "cell_type": "code",
   "execution_count": 76,
   "metadata": {},
   "outputs": [],
   "source": [
    "# Datos con los que vas a trabajar\n",
    "name = \"Moon\"\n",
    "gravity = 0.00162 # in kms\n",
    "planet = \"Earth\""
   ]
  },
  {
   "cell_type": "code",
   "execution_count": 77,
   "metadata": {},
   "outputs": [
    {
     "data": {
      "text/plain": [
       "'Datos sobre la gravedad en Moon del planeta Earth'"
      ]
     },
     "execution_count": 77,
     "metadata": {},
     "output_type": "execute_result"
    }
   ],
   "source": [
    "# Creamos el título\n",
    "title = f\"Datos sobre la gravedad en {name} del planeta {planet}\"\n",
    "title"
   ]
  },
  {
   "cell_type": "code",
   "execution_count": 78,
   "metadata": {},
   "outputs": [
    {
     "name": "stdout",
     "output_type": "stream",
     "text": [
      "\n",
      "--------------------------------------------------\n",
      "Nombre del planeta Earth\n",
      "Gravedad en Moon = 1.6199999999999999 m/s^2\n",
      "        \n"
     ]
    }
   ],
   "source": [
    "# Creamos la plantilla\n",
    "datos = f\"\"\"\n",
    "{'-'*50}\n",
    "Nombre del planeta {planet}\n",
    "Gravedad en {name} = {gravity * 1000} m/s^2\n",
    "        \"\"\"\n",
    "print(datos)"
   ]
  },
  {
   "cell_type": "code",
   "execution_count": 79,
   "metadata": {},
   "outputs": [
    {
     "name": "stdout",
     "output_type": "stream",
     "text": [
      "\n",
      "Datos Sobre La Gravedad En Moon Del Planeta Earth\n",
      "\n",
      "--------------------------------------------------\n",
      "Nombre del planeta Earth\n",
      "Gravedad en Moon = 1.6199999999999999 m/s^2\n",
      "        \n",
      "            \n"
     ]
    }
   ],
   "source": [
    "# Unión de ambas cadenas\n",
    "#Unir titulo y hechos\n",
    "plantilla = f\"\"\"\n",
    "{title.title()}\n",
    "{datos}\n",
    "            \"\"\"\n",
    "print(plantilla)"
   ]
  },
  {
   "cell_type": "code",
   "execution_count": 84,
   "metadata": {},
   "outputs": [],
   "source": [
    "# Nuevos datos muestra\n",
    "planet = 'Marte '\n",
    "gravity  = 0.00143\n",
    "name = 'Ganímedes'"
   ]
  },
  {
   "cell_type": "code",
   "execution_count": 85,
   "metadata": {},
   "outputs": [
    {
     "name": "stdout",
     "output_type": "stream",
     "text": [
      "\n",
      "Datos Sobre La Gravedad En Moon Del Planeta Earth\n",
      "\n",
      "--------------------------------------------------\n",
      "Nombre del planeta Earth\n",
      "Gravedad en Moon = 1.6199999999999999 m/s^2\n",
      "        \n",
      "            \n"
     ]
    }
   ],
   "source": [
    "#Probamos la plantilla asignando de nuevo las variables\n",
    "\n",
    "plantilla = f\"\"\"\n",
    "{title.title()}\n",
    "{datos}\n",
    "            \"\"\"\n",
    "print(plantilla)"
   ]
  }
 ],
 "metadata": {
  "interpreter": {
   "hash": "55c6eb3720bd10065784a59ea183aef188bfc029d13958388c0eff65846db5da"
  },
  "kernelspec": {
   "display_name": "Python 3.9.6 64-bit",
   "language": "python",
   "name": "python3"
  },
  "language_info": {
   "codemirror_mode": {
    "name": "ipython",
    "version": 3
   },
   "file_extension": ".py",
   "mimetype": "text/x-python",
   "name": "python",
   "nbconvert_exporter": "python",
   "pygments_lexer": "ipython3",
   "version": "3.9.6"
  },
  "orig_nbformat": 4
 },
 "nbformat": 4,
 "nbformat_minor": 2
}
